{
  "nbformat": 4,
  "nbformat_minor": 0,
  "metadata": {
    "colab": {
      "provenance": []
    },
    "kernelspec": {
      "name": "python3",
      "display_name": "Python 3"
    },
    "language_info": {
      "name": "python"
    },
    "accelerator": "TPU"
  },
  "cells": [
    {
      "cell_type": "code",
      "execution_count": 1,
      "metadata": {
        "colab": {
          "base_uri": "https://localhost:8080/"
        },
        "id": "nRX-E1Zub8bE",
        "outputId": "7d613d44-96a2-4ecd-dad1-edadd6adc020"
      },
      "outputs": [
        {
          "output_type": "stream",
          "name": "stdout",
          "text": [
            "Collecting onnxruntime\n",
            "  Downloading onnxruntime-1.16.1-cp310-cp310-manylinux_2_17_x86_64.manylinux2014_x86_64.whl (6.2 MB)\n",
            "\u001b[2K     \u001b[90m━━━━━━━━━━━━━━━━━━━━━━━━━━━━━━━━━━━━━━━━\u001b[0m \u001b[32m6.2/6.2 MB\u001b[0m \u001b[31m39.4 MB/s\u001b[0m eta \u001b[36m0:00:00\u001b[0m\n",
            "\u001b[?25hCollecting coloredlogs (from onnxruntime)\n",
            "  Downloading coloredlogs-15.0.1-py2.py3-none-any.whl (46 kB)\n",
            "\u001b[2K     \u001b[90m━━━━━━━━━━━━━━━━━━━━━━━━━━━━━━━━━━━━━━━━\u001b[0m \u001b[32m46.0/46.0 kB\u001b[0m \u001b[31m5.1 MB/s\u001b[0m eta \u001b[36m0:00:00\u001b[0m\n",
            "\u001b[?25hRequirement already satisfied: flatbuffers in /usr/local/lib/python3.10/dist-packages (from onnxruntime) (23.5.26)\n",
            "Requirement already satisfied: numpy>=1.21.6 in /usr/local/lib/python3.10/dist-packages (from onnxruntime) (1.23.5)\n",
            "Requirement already satisfied: packaging in /usr/local/lib/python3.10/dist-packages (from onnxruntime) (23.2)\n",
            "Requirement already satisfied: protobuf in /usr/local/lib/python3.10/dist-packages (from onnxruntime) (3.20.3)\n",
            "Requirement already satisfied: sympy in /usr/local/lib/python3.10/dist-packages (from onnxruntime) (1.12)\n",
            "Collecting humanfriendly>=9.1 (from coloredlogs->onnxruntime)\n",
            "  Downloading humanfriendly-10.0-py2.py3-none-any.whl (86 kB)\n",
            "\u001b[2K     \u001b[90m━━━━━━━━━━━━━━━━━━━━━━━━━━━━━━━━━━━━━━━━\u001b[0m \u001b[32m86.8/86.8 kB\u001b[0m \u001b[31m8.7 MB/s\u001b[0m eta \u001b[36m0:00:00\u001b[0m\n",
            "\u001b[?25hRequirement already satisfied: mpmath>=0.19 in /usr/local/lib/python3.10/dist-packages (from sympy->onnxruntime) (1.3.0)\n",
            "Installing collected packages: humanfriendly, coloredlogs, onnxruntime\n",
            "Successfully installed coloredlogs-15.0.1 humanfriendly-10.0 onnxruntime-1.16.1\n"
          ]
        }
      ],
      "source": [
        "!pip install onnxruntime"
      ]
    },
    {
      "cell_type": "code",
      "source": [
        "!pip install onnx onnxmltools"
      ],
      "metadata": {
        "id": "7ooU1DzipfoT"
      },
      "execution_count": null,
      "outputs": []
    },
    {
      "cell_type": "code",
      "source": [
        "!pip install onnx\n"
      ],
      "metadata": {
        "id": "9wHn87fCyZYh"
      },
      "execution_count": null,
      "outputs": []
    },
    {
      "cell_type": "code",
      "source": [
        "import onnxruntime as rt\n",
        "import onnx\n",
        "import cv2\n",
        "import torch\n",
        "import numpy as np\n",
        "import matplotlib.pyplot as plt\n",
        "\n",
        "model = onnx.load(\"/content/mnist-12.onnx\")\n",
        "session = rt.InferenceSession(model.SerializeToString())\n",
        "\n",
        "# load an image and prepare it as input for an ONNX model for digit recognition:\n",
        "img = cv2.imread(\"/content/4.png\")\n",
        "\n",
        "#Preprocess image:\n",
        "'''\n",
        "1)Convert to grayscale\n",
        "2)Resize to 28x28\n",
        "3)Invert pixel values (black background, white digit)\n",
        "'''\n",
        "img = cv2.cvtColor(img, cv2.COLOR_BGR2GRAY)\n",
        "img = cv2.resize(img, (28, 28))\n",
        "#Convert image to NumPy array with data type float32:\n",
        "img = img.astype('float32')\n",
        "# Normalize pixel values to between 0-1:\n",
        "img /= 255\n",
        "input1 = img.reshape(1, 1, 28, 28)\n",
        "\n",
        "# Get input and output node names for the ONNX model\n",
        "input_name = session.get_inputs()[0].name\n",
        "output_name = session.get_outputs()[0].name\n",
        "\n",
        "# Pass image as input to ONNX model:\n",
        "output = session.run([output_name], {input_name: input1})\n",
        "#print(output)\n",
        "\n",
        "# Post-process the output from raw logits for each class (0-9)\n",
        "'''Apply softmax on the logits to convert them into probabilities'''\n",
        "# Post-process the output from raw logits for each class (0-9)\n",
        "output = np.array(output[0])\n",
        "\n",
        "# Apply softmax on the logits to convert them into probabilities\n",
        "probs = np.exp(output) / np.exp(output).sum()\n",
        "\n",
        "pred = np.argmax(probs)\n",
        "\n",
        "digit = str(pred)\n",
        "\n",
        "#print(\"\\n Predicted Digit:\", digit, \"\\n\")\n",
        "\n",
        "print(\"\\nPredicted digit:\", digit,\"\\n\")\n"
      ],
      "metadata": {
        "colab": {
          "base_uri": "https://localhost:8080/"
        },
        "id": "Y26tXGB_lplw",
        "outputId": "9afcd046-b14b-48ba-e55a-b0bba4da4473"
      },
      "execution_count": 18,
      "outputs": [
        {
          "output_type": "stream",
          "name": "stdout",
          "text": [
            "\n",
            "Predicted digit: 4 \n",
            "\n"
          ]
        }
      ]
    },
    {
      "cell_type": "code",
      "source": [],
      "metadata": {
        "id": "0sBPgzwUmk-z"
      },
      "execution_count": null,
      "outputs": []
    },
    {
      "cell_type": "code",
      "source": [],
      "metadata": {
        "id": "JBA_V_xopenf"
      },
      "execution_count": null,
      "outputs": []
    }
  ]
}